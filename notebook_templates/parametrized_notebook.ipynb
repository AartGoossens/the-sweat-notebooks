{
 "cells": [
  {
   "cell_type": "code",
   "execution_count": null,
   "metadata": {},
   "outputs": [],
   "source": [
    "import json\n",
    "\n",
    "from stravalib import Client"
   ]
  },
  {
   "cell_type": "code",
   "execution_count": 3,
   "metadata": {
    "tags": [
     "parameters"
    ]
   },
   "outputs": [],
   "source": [
    "access_token = None\n",
    "activity_id = None"
   ]
  },
  {
   "cell_type": "code",
   "execution_count": null,
   "metadata": {},
   "outputs": [],
   "source": [
    "client = Client(access_token)\n",
    "\n",
    "# Retrieve Strava athlete\n",
    "athlete_response = client.get_athlete()\n",
    "athlete = athlete_response.to_dict()\n",
    "\n",
    "# Retrieve Strava activity details\n",
    "activity_detail_response = client.get_activity(activity_id)\n",
    "activity_detail = activity_detail_response.to_dict()\n",
    "\n",
    "# Retrieve Strava activity streams\n",
    "STRAVA_STREAM_TYPES = [\n",
    "    'time', 'latlng', 'distance', 'altitude', 'velocity_smooth', 'heartrate',\n",
    "    'cadence', 'watts', 'temp', 'moving', 'grade_smooth'\n",
    "]\n",
    "activity_streams_response = client.get_activity_streams(\n",
    "    activity_id=activity_id,\n",
    "    types=STRAVA_STREAM_TYPES,\n",
    "    series_type='time')\n",
    "activity_streams = {key: val.data for key, val in activity_streams_response.items()}"
   ]
  },
  {
   "cell_type": "code",
   "execution_count": null,
   "metadata": {
    "scrolled": true
   },
   "outputs": [],
   "source": [
    "print(f'athlete firstname: {athlete[\"firstname\"]}')\n",
    "print(f'activity_detail: {activity_detail[\"external_id\"]}')\n",
    "print(f'activity_streams: {activity_streams[\"altitude\"]}')"
   ]
  }
 ],
 "metadata": {
  "celltoolbar": "Tags",
  "kernelspec": {
   "display_name": "Python 3",
   "language": "python",
   "name": "python3"
  },
  "language_info": {
   "codemirror_mode": {
    "name": "ipython",
    "version": 3
   },
   "file_extension": ".py",
   "mimetype": "text/x-python",
   "name": "python",
   "nbconvert_exporter": "python",
   "pygments_lexer": "ipython3",
   "version": "3.7.4"
  }
 },
 "nbformat": 4,
 "nbformat_minor": 2
}
