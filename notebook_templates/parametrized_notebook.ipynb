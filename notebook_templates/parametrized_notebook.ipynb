{
 "cells": [
  {
   "cell_type": "code",
   "execution_count": null,
   "metadata": {
    "tags": [
     "remove_cell"
    ]
   },
   "outputs": [],
   "source": [
    "import json\n",
    "\n",
    "import numpy as np\n",
    "import pandas as pd\n",
    "import scrapbook as sb\n",
    "from IPython.display import Markdown as md\n",
    "from stravalib import Client\n",
    "from sweat.hrm.heartrate_models import heartrate_model, _heartrate_model_predict"
   ]
  },
  {
   "cell_type": "code",
   "execution_count": null,
   "metadata": {
    "tags": [
     "parameters",
     "remove_cell"
    ]
   },
   "outputs": [],
   "source": [
    "access_token = None\n",
    "activity_id = None"
   ]
  },
  {
   "cell_type": "code",
   "execution_count": null,
   "metadata": {
    "tags": [
     "remove_cell"
    ]
   },
   "outputs": [],
   "source": [
    "client = Client(access_token)\n",
    "\n",
    "# Retrieve Strava athlete\n",
    "athlete_response = client.get_athlete()\n",
    "athlete = athlete_response.to_dict()\n",
    "sb.glue('athlete', athlete)\n",
    "\n",
    "# Retrieve Strava activity details\n",
    "activity_detail_response = client.get_activity(activity_id)\n",
    "activity_detail = activity_detail_response.to_dict()\n",
    "sb.glue('activity_detail', activity_detail)\n",
    "\n",
    "# Retrieve Strava activity streams\n",
    "STRAVA_STREAM_TYPES = [\n",
    "    'time', 'latlng', 'distance', 'altitude', 'velocity_smooth', 'heartrate',\n",
    "    'cadence', 'watts', 'temp', 'moving', 'grade_smooth'\n",
    "]\n",
    "activity_streams_response = client.get_activity_streams(\n",
    "    activity_id=activity_id,\n",
    "    types=STRAVA_STREAM_TYPES,\n",
    "    series_type='time')\n",
    "activity_streams = {key: val.data for key, val in activity_streams_response.items()}"
   ]
  },
  {
   "cell_type": "code",
   "execution_count": null,
   "metadata": {
    "tags": [
     "remove_input"
    ]
   },
   "outputs": [],
   "source": [
    "md((\n",
    "    f'# Report for activity: {activity_detail[\"name\"]}\\n'\n",
    "    f'Date: {activity_detail[\"start_date_local\"]}\\n\\n'\n",
    "    f'Available data: {\", \".join(list(activity_streams.keys()))}'\n",
    "))"
   ]
  },
  {
   "cell_type": "code",
   "execution_count": null,
   "metadata": {
    "tags": [
     "remove_input"
    ]
   },
   "outputs": [],
   "source": [
    "for key in activity_streams.keys():\n",
    "    if key in ('time', 'latlng', 'moving'):\n",
    "        continue\n",
    "    \n",
    "    df = pd.DataFrame({'time': activity_streams['time'], key: activity_streams[key]})\n",
    "    df.plot(x='time', y=key, figsize=(10, 5))\n",
    "    "
   ]
  },
  {
   "cell_type": "markdown",
   "metadata": {},
   "source": [
    "## Heart rate model\n",
    "This model is fitted on your heartrate and power, if available."
   ]
  },
  {
   "cell_type": "code",
   "execution_count": null,
   "metadata": {
    "tags": [
     "remove_input"
    ]
   },
   "outputs": [],
   "source": [
    "heartrate = activity_streams['heartrate']\n",
    "power = activity_streams['watts']\n",
    "\n",
    "# Replace None values with 0\n",
    "heartrate = [i if isinstance(i, int) else 0 for i in heartrate]\n",
    "power = [i if isinstance(i, int) else 0 for i in power]\n",
    "\n",
    "model, _ = heartrate_model(np.array(heartrate), np.array(power))\n",
    "model"
   ]
  },
  {
   "cell_type": "code",
   "execution_count": null,
   "metadata": {
    "tags": [
     "remove_cell"
    ]
   },
   "outputs": [],
   "source": [
    "artificial_power = np.array(120*[100] + 120*[200] + 120*[100])\n",
    "artificial_heartrate = _heartrate_model_predict(model.params, artificial_power)"
   ]
  },
  {
   "cell_type": "code",
   "execution_count": null,
   "metadata": {
    "scrolled": false,
    "tags": [
     "remove_input"
    ]
   },
   "outputs": [],
   "source": [
    "df = pd.DataFrame(dict(power=artificial_power, heartrate=artificial_heartrate))\n",
    "df.plot(figsize=(15, 10), ylim=(0, 250), yticks=range(0, 250, 10), grid=True);"
   ]
  },
  {
   "cell_type": "code",
   "execution_count": null,
   "metadata": {},
   "outputs": [],
   "source": []
  }
 ],
 "metadata": {
  "celltoolbar": "Tags",
  "kernelspec": {
   "display_name": "Python 3",
   "language": "python",
   "name": "python3"
  },
  "language_info": {
   "codemirror_mode": {
    "name": "ipython",
    "version": 3
   },
   "file_extension": ".py",
   "mimetype": "text/x-python",
   "name": "python",
   "nbconvert_exporter": "python",
   "pygments_lexer": "ipython3",
   "version": "3.7.4"
  }
 },
 "nbformat": 4,
 "nbformat_minor": 2
}
