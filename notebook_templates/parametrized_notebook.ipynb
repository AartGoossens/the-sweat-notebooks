{
 "cells": [
  {
   "cell_type": "code",
   "execution_count": null,
   "metadata": {},
   "outputs": [],
   "source": [
    "import json"
   ]
  },
  {
   "cell_type": "code",
   "execution_count": 3,
   "metadata": {
    "tags": [
     "parameters"
    ]
   },
   "outputs": [],
   "source": [
    "athlete_file = None\n",
    "activity_detail_file = None\n",
    "activity_streams_file = None"
   ]
  },
  {
   "cell_type": "code",
   "execution_count": null,
   "metadata": {},
   "outputs": [],
   "source": [
    "with open(athlete_file, 'r') as f:\n",
    "    athlete = json.load(f)\n",
    "\n",
    "with open(activity_detail_file, 'r') as f:\n",
    "    activity_detail = json.load(f)\n",
    "\n",
    "with open(activity_streams_file, 'r') as f:\n",
    "    activity_streams = json.load(f)"
   ]
  },
  {
   "cell_type": "code",
   "execution_count": null,
   "metadata": {
    "scrolled": true
   },
   "outputs": [],
   "source": [
    "print(f'athlete firstname: {athlete[\"firstname\"]}')\n",
    "print(f'activity_detail: {activity_detail[\"external_id\"]}')\n",
    "print(f'activity_streams: {activity_streams[\"altitude\"]}')"
   ]
  }
 ],
 "metadata": {
  "celltoolbar": "Tags",
  "kernelspec": {
   "display_name": "Python 3",
   "language": "python",
   "name": "python3"
  },
  "language_info": {
   "codemirror_mode": {
    "name": "ipython",
    "version": 3
   },
   "file_extension": ".py",
   "mimetype": "text/x-python",
   "name": "python",
   "nbconvert_exporter": "python",
   "pygments_lexer": "ipython3",
   "version": "3.7.4"
  }
 },
 "nbformat": 4,
 "nbformat_minor": 2
}
