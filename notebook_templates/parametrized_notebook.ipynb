{
 "cells": [
  {
   "cell_type": "code",
   "execution_count": 1,
   "metadata": {},
   "outputs": [],
   "source": [
    "import json\n",
    "\n",
    "import scrapbook as sb\n",
    "from stravalib import Client"
   ]
  },
  {
   "cell_type": "code",
   "execution_count": 3,
   "metadata": {
    "tags": [
     "parameters"
    ]
   },
   "outputs": [],
   "source": [
    "access_token = None\n",
    "activity_id = None"
   ]
  },
  {
   "cell_type": "code",
   "execution_count": 4,
   "metadata": {},
   "outputs": [
    {
     "data": {
      "application/scrapbook.scrap.json+json": {
       "data": {
        "admin": null,
        "agreed_to_terms": null,
        "approve_followers": null,
        "athlete_type": null,
        "badge_type_id": 0,
        "bikes": null,
        "city": "Leiden",
        "clubs": null,
        "country": "Netherlands",
        "created_at": "2013-07-06T15:15:27+00:00",
        "date_preference": null,
        "dateofbirth": null,
        "description": null,
        "email": null,
        "email_facebook_twitter_friend_joins": null,
        "email_kom_lost": null,
        "email_language": null,
        "email_send_follower_notices": null,
        "facebook_sharing_enabled": null,
        "firstname": "Aart",
        "follower": null,
        "follower_count": null,
        "follower_request_count": null,
        "friend": null,
        "friend_count": null,
        "ftp": null,
        "global_privacy": null,
        "instagram_username": null,
        "lastname": "Goossens",
        "max_heartrate": null,
        "measurement_preference": null,
        "membership": null,
        "mutual_friend_count": null,
        "offer_in_app_payment": null,
        "owner": null,
        "plan": null,
        "premium": false,
        "premium_expiration_date": null,
        "profile": "https://dgalywyr863hv.cloudfront.net/pictures/athletes/2495424/1315000/6/large.jpg",
        "profile_medium": "https://dgalywyr863hv.cloudfront.net/pictures/athletes/2495424/1315000/6/medium.jpg",
        "profile_original": null,
        "receive_comment_emails": null,
        "receive_follower_feed_emails": null,
        "receive_kudos_emails": null,
        "receive_newsletter": null,
        "sample_race_distance": null,
        "sample_race_time": null,
        "sex": "M",
        "shoes": null,
        "state": "South Holland",
        "subscription_permissions": null,
        "super_user": null,
        "updated_at": "2019-11-23T15:58:55+00:00",
        "username": "aart_goossens",
        "weight": null
       },
       "encoder": "json",
       "name": "athlete",
       "version": 1
      }
     },
     "metadata": {
      "scrapbook": {
       "data": true,
       "display": false,
       "name": "athlete"
      }
     },
     "output_type": "display_data"
    },
    {
     "data": {
      "application/scrapbook.scrap.json+json": {
       "data": {
        "achievement_count": 7,
        "athlete": {
         "admin": null,
         "agreed_to_terms": null,
         "approve_followers": null,
         "athlete_type": null,
         "badge_type_id": null,
         "bikes": null,
         "city": null,
         "clubs": null,
         "country": null,
         "created_at": null,
         "date_preference": null,
         "dateofbirth": null,
         "description": null,
         "email": null,
         "email_facebook_twitter_friend_joins": null,
         "email_kom_lost": null,
         "email_language": null,
         "email_send_follower_notices": null,
         "facebook_sharing_enabled": null,
         "firstname": null,
         "follower": null,
         "follower_count": null,
         "follower_request_count": null,
         "friend": null,
         "friend_count": null,
         "ftp": null,
         "global_privacy": null,
         "instagram_username": null,
         "lastname": null,
         "max_heartrate": null,
         "measurement_preference": null,
         "membership": null,
         "mutual_friend_count": null,
         "offer_in_app_payment": null,
         "owner": null,
         "plan": null,
         "premium": null,
         "premium_expiration_date": null,
         "profile": null,
         "profile_medium": null,
         "profile_original": null,
         "receive_comment_emails": null,
         "receive_follower_feed_emails": null,
         "receive_kudos_emails": null,
         "receive_newsletter": null,
         "sample_race_distance": null,
         "sample_race_time": null,
         "sex": null,
         "shoes": null,
         "state": null,
         "subscription_permissions": null,
         "super_user": null,
         "updated_at": null,
         "username": null,
         "weight": null
        },
        "athlete_count": 1,
        "average_cadence": 89.8,
        "average_heartrate": null,
        "average_speed": 7.454,
        "average_temp": 28,
        "average_watts": 189.1,
        "best_efforts": null,
        "calories": 1177,
        "comment_count": 2,
        "commute": false,
        "description": "",
        "device_name": "Garmin Edge 1000",
        "device_watts": true,
        "distance": 46857.6,
        "elapsed_time": "1:54:30",
        "elev_high": 22.6,
        "elev_low": -9.8,
        "embed_token": "4337a5d600e822764711dee202d1ad927a076876",
        "end_latlng": "52.16,4.47",
        "external_id": "garmin_push_3883761119",
        "flagged": false,
        "from_accepted_tag": false,
        "gear": {
         "brand_name": null,
         "description": null,
         "distance": 5617723,
         "id": "b4082426",
         "model_name": null,
         "name": "FM066",
         "primary": true
        },
        "gear_id": "b4082426",
        "guid": null,
        "has_heartrate": false,
        "has_kudoed": false,
        "highlighted_kudosers": null,
        "instagram_primary_photo": null,
        "kilojoules": 1188.7,
        "kudos_count": 12,
        "laps": [
         {
          "activity": {
           "achievement_count": null,
           "athlete": null,
           "athlete_count": null,
           "average_cadence": null,
           "average_heartrate": null,
           "average_speed": null,
           "average_temp": null,
           "average_watts": null,
           "best_efforts": null,
           "calories": null,
           "comment_count": null,
           "commute": null,
           "description": null,
           "device_name": null,
           "device_watts": null,
           "distance": null,
           "elapsed_time": null,
           "elev_high": null,
           "elev_low": null,
           "embed_token": null,
           "end_latlng": null,
           "external_id": null,
           "flagged": null,
           "from_accepted_tag": null,
           "gear": null,
           "gear_id": null,
           "guid": null,
           "has_heartrate": null,
           "has_kudoed": null,
           "highlighted_kudosers": null,
           "instagram_primary_photo": null,
           "kilojoules": null,
           "kudos_count": null,
           "laps": null,
           "location_city": null,
           "location_country": null,
           "location_state": null,
           "manual": null,
           "map": null,
           "max_heartrate": null,
           "max_speed": null,
           "max_watts": null,
           "moving_time": null,
           "name": null,
           "partner_brand_tag": null,
           "partner_logo_url": null,
           "photo_count": null,
           "photos": null,
           "pr_count": null,
           "private": null,
           "segment_efforts": null,
           "segment_leaderboard_opt_out": null,
           "splits_metric": null,
           "splits_standard": null,
           "start_date": null,
           "start_date_local": null,
           "start_latitude": null,
           "start_latlng": null,
           "start_longitude": null,
           "suffer_score": null,
           "timezone": null,
           "total_elevation_gain": null,
           "total_photo_count": null,
           "trainer": null,
           "type": null,
           "upload_id": null,
           "utc_offset": null,
           "weighted_average_watts": null,
           "workout_type": null
          },
          "athlete": {
           "admin": null,
           "agreed_to_terms": null,
           "approve_followers": null,
           "athlete_type": null,
           "badge_type_id": null,
           "bikes": null,
           "city": null,
           "clubs": null,
           "country": null,
           "created_at": null,
           "date_preference": null,
           "dateofbirth": null,
           "description": null,
           "email": null,
           "email_facebook_twitter_friend_joins": null,
           "email_kom_lost": null,
           "email_language": null,
           "email_send_follower_notices": null,
           "facebook_sharing_enabled": null,
           "firstname": null,
           "follower": null,
           "follower_count": null,
           "follower_request_count": null,
           "friend": null,
           "friend_count": null,
           "ftp": null,
           "global_privacy": null,
           "instagram_username": null,
           "lastname": null,
           "max_heartrate": null,
           "measurement_preference": null,
           "membership": null,
           "mutual_friend_count": null,
           "offer_in_app_payment": null,
           "owner": null,
           "plan": null,
           "premium": null,
           "premium_expiration_date": null,
           "profile": null,
           "profile_medium": null,
           "profile_original": null,
           "receive_comment_emails": null,
           "receive_follower_feed_emails": null,
           "receive_kudos_emails": null,
           "receive_newsletter": null,
           "sample_race_distance": null,
           "sample_race_time": null,
           "sex": null,
           "shoes": null,
           "state": null,
           "subscription_permissions": null,
           "super_user": null,
           "updated_at": null,
           "username": null,
           "weight": null
          },
          "average_cadence": 89.8,
          "average_heartrate": null,
          "average_speed": 6.82,
          "average_watts": 189.1,
          "device_watts": true,
          "distance": 46857.6,
          "elapsed_time": "1:54:29",
          "end_index": 6869,
          "lap_index": 1,
          "max_heartrate": null,
          "max_speed": 10.9,
          "moving_time": "1:54:29",
          "name": "Lap 1",
          "pace_zone": null,
          "split": 1,
          "start_date": "2019-07-26T07:08:14+00:00",
          "start_date_local": "2019-07-26T09:08:14",
          "start_index": 0,
          "total_elevation_gain": 76
         }
        ],
        "location_city": null,
        "location_country": "Nederland",
        "location_state": null,
        "manual": false,
        "map": {
         "id": "a2564093813",
         "polyline": "svj}HakgZB?CDKBUZG@GEIUa@eBGg@DGIM_@aBw@_EYwCq@kGKuASgBEKEEIAU?YJIAEICK?}@C_@OS[MEIC_@AqEA{@Ge@O[IIKA_AHUCIGEc@KaCQwF?iAEQQa@WcA?g@E_@qAgEo@qAWw@GASD[NI?WQiCkDa@a@yDoFGO?IIY@YH]l@_B\\aA^iB?aAEMk@aAcAqCQ[[m@k@s@Ks@OWsBsBcAoAsB{Bu@aAa@a@c@Sc@CI?IDY\\I@SMc@e@eDsEmCeEcAuAaAoAa@o@iCeFcA_BcEeFsA{AU]Sa@Qi@cBaHM[GGQJoAvAYX]F[CeDyAYQIMa@cAKMKGiH_BYMKIIMa@_AWIkBWYC]Di@`@MBO?kAE]Gu@e@MCwBBa@Dq@VOB}G`@m@N{@^iCb@eDv@yALgAC[HYTo@bAWNWLcHjBkAVyBl@S@OEEBSE}@Na@RGHWp@_Bj@c@Vw@\\_Cr@}AX{Bn@c@Dk@Ai@IY?oBh@sBd@]L[TOD_ANM?i@MgAL_@@mBQM@[LO?MEg@]g@OM@MDMHe@l@MHK?MEIKy@cAUMK@KF[h@IHKBe@GIFGLQ`BS`A]t@YTkB|@cE`AiKlCi@HK?IEGKe@sBk@uEQkBc@qCYu@_@i@YSaAYWYk@uA}@{CqA_EaD_L_@gBq@mCcEiOsAmHeAqGs@yDqAyECUYy@y@aCeAiCaAuC{EsS}@qDa@cAi@}@G?GDS`@GDK?SQOa@g@sBaAgE{AoI_@_CQcBs@{HkAcKWkBCU@cAAWs@iGQiB_@{BKaAK{AEkDKg@Q_@Ok@}@oF_AkG_@sCcDkYU}CSqBAk@Hm@j@}BFo@Ao@mAuM}A{MY_BUk@e@o@y@k@KMSc@a@qA[{A}AwIi@eCgBwG}AoFsCkLw@wD?GBA|@xCJh@Bj@Nx@Dh@BHHFNG`CmBbDsCtBmBdA{@dC}Bx@o@l@k@z@q@xAyAXc@Je@TWTu@f@eGHsABmAh@wD|A{RLsALoBvBeWj@oHNuC@mBA_AIiBg@yF{Haq@KcBEsA?_CDqBNaCZsC|Jmq@nAsIp@kFh@sCnBmNd@sChA}HVaCFaFFwd@Lkb@BgPCqCK_Ca@gGoBi]Q}B]yDa@iJ{@}NQgCIi@Q}@cC{IkNcf@O_@o@mA]kAUk@]g@GSW{Ck@eDe@wFYyBi@wCe@_Ca@yAgBqFm@cBw@qCmAiDgGoOqBuF]gAqEmPk@cC{@wEoA{KoAoLWeBe@uBg@yAy@aBsG}KyAwCGGG?W\\IBIAOQs@kAI]AODWXg@A@?@~@aB|@mAr@kAtGeLxCqEpCeDxAuAlCaCn@o@XQJAL@JHFNRrBHl@HRJJLD|@Ix@L^?fHwANANBLHJPLj@TjDR|E?l@IhCBJFFnDx@hCXx@R|AVzCl@lA^lAV`PvC~@LlGf@zGfA`DZlB\\|@Z\\HhF|@nBX~@F~@?`DSbBEvCY`IqAnCm@bEi@~@SzBc@tFq@pA[`B[z@KtA[rBUtAUvA[^B@GPnFIv@BPHHHDTAp@OJ\\HDRXFBn@Ox@AHBl@t@BA@OYWEOIs@?a@O}@?MDGl@MD]@C\\KPORTR?FG@g@SmAK}AJQJEb@In@Ur@MpA]nA_@bCiApAc@lAk@r@Ut@]pAa@bC}@xBuAn@QJAHBJVPxCt@|JBjABrEFnAn@`HPlANp@vBxHr@rBd@z@xChEXf@HVbBvIhAjGXlAVj@rB|D~CnFtAxC`@fAhAlDRr@^lBVrBDz@@z@?vBQjHB|AxC`W`ApGjLxfALz@HHJ@VMx@i@hAc@ZKxAWjAWtAk@pA}@`AcAt@o@nAoAZWbAaAZUZO|Ag@|Co@nG}A|Bw@jAe@|@WlBo@hCw@vFkBLBJKhC}@bAe@h@On@c@J@HDJZ`AjGPzANdB@hBMvDGn@U`@CRATFlADvBFx@l@nGv@tI@t@GpADjATlCZ~AJr@pB`VFrARlBNnBArBLhCNdBt@zGVhDPdD~@~K`ArKPpAZfBLnA|Cnb@`@vD@RC`@AbABLVXL@XIZE`BIXBFHD^DFF@bFmAv@MdBa@fLsCJ@JHJf@Vv@xB|Y`@dHtAtQLbC~@`LT|Dj@tGfAdNfGpy@^jEh@vHx@lKh@`Iz@pK@VAVU`@_BvBuE~GgJpMkD~EgAvAy@jAm@r@iExGwAfBc@v@iCnDMX@Hf@b@|BfDhMrRZVl@XX\\nB|CJTTfARh@JNVXLJl@VNLxAzBb@v@Rl@Tf@tB~CpAzAJPLp@Rh@pDbGtHxLZ\\NDbAJNFJNdCdGFXFv@DXJT|@v@hB`Ej@xANpAPn@jExJ`AdB`@fA~@pCjArEhCrGDVBfABNjBpF~FrN`@r@jB~BTj@@NA^YfBk@jF]nAc@lBq@`CcAjC{@pBaBxCgAfBu@fAcAnAgA`AcBjAgA~@}@l@e@VwAf@w@\\ONCL?NBNFHH@HCVUH?HRJdA^pC@REh@Dr@ANIDU@WFu@Za@^q@`AMh@CzAEf@w@xDEj@GfBOV{ArAEHfBzGBh@Gz@Bh@rA~E@LCJEHEAAGBEDAJDDF~AdFRZJHl@TJHLX?NCLSNoAf@mFpC_Aj@}@p@KLEPc@|B[nA?FBAw@pBGBGCg@cA{@cAiAeAa@Wc@Uc@Ys@y@UQmBiAy@_@aAWu@Ak@GaEg@KAi@JQ?WEI@GFCJEf@Mz@WdEMhEGhGAlJUtKExC?rAAAA`@DtGElHAbDBf@A|@EhAg@fFCn@@HDSAOCCuADIRI|@CFI@qFuBMAQFB@@EF@\\ThC~@j@X^HHDDFBr@IzDa@hF}@bEQj@AN@NDFTZz@tABHAJMd@oArCYj@e@v@aDhEiApByAfByA`Co@nAWv@o@pBSrAQrAKhCOzB?TI`ADnGf@vN^rGZ`Eb@tCBZCJIFa@Tc@ZaAj@WRY^GLCP?RFd@|@zDRnAb@jBRv@t@jBXdAjA`D@d@OzB@rDOpEWhA?JLh@?P[bCGNSZw@v@m@v@oBnBaApA",
         "summary_polyline": "svj}HakgZq@`@k@{BAo@aBoHkBaRoAIMsBq@k@OsIYe@kBCc@gNo@wBEgAqAgEgAiCw@Ra@QmJmMG}@tBiHEoAaCoFgAaB[kAcKcLgAWm@b@]K}MeRoFuJmH_J_DqK{B|By@B_EkBcAgBiH_Be@Wk@mAcCa@_Cf@iBMcAi@wBBaKbAyKjC}DRyBvBiNpD{BHi@\\Wp@{D`ByI|BsCEmJhCgI?}As@iBhAqAuAa@Kq@z@{@Bm@pDw@jAkB|@mQnE_ABm@_CaBsMy@_BsBgA{DqLwL_d@mEyVoBiHaEaLyGeYkAaCk@l@_@QmAqEgD{QiDo[GgCkBeOS}Gm@sB}B{NcE_^k@{Ht@kDD_BkDq\\o@kCkBiBu@uBcDyPeEgOkEcRHC|@hDb@lD`@G|YiWpAwCt@gLh@wD|Guz@PcGs@cL{Haq@QwDDqFj@uG`XcjB\\_eB}Cqi@o@wH}AgZm@oFoR_q@qCmGkCgUqBqJ{GqSyJeWoFuRgB{I_DkY}@{EaB{DmJuP{@VmA{BZmA`RqZpCeDpHyGl@X\\`Db@d@vCBfIuA`@p@RxBZdHIvDJRzh@`KjIt@r`@dG|Lu@pu@_MPnFIv@LZpAKp@`AhBQv@x@DQ_@g@YaDr@UFa@n@[n@L]sEJQtHqBbRmHxBuAdAOrAnPNnJpA`LjDlLbFdIfEpT`KrRjBtFr@`D^jFM`OzEr_@xLthATJzC{AvGgBpLaKjOuDdWeIrHcD`@b@bBlMK`Hc@zBT~FdBdR?rE|@`HlCb\\ZlJdA`KhBnV`ArKz@hG~Dfh@CxBZf@~DSZr@hXqGVJb@~AtI|lAdRrdC?n@U`@y^`h@oMhRKb@dDjEhMrRbBnAnB|Ct@fCnBzAxAzBlAlCfEzFl@lBfN|TjCfAdCdG`@`C|@v@hB`Ej@xA`@`CnHfPjCdJhCrGLnBjBpF~FrNlCrDVz@gArJaA|DuBlG}CjG}BnDkCpCiFxDeElBFv@j@WRRj@vE?`CmBj@sA`BMh@IbCw@xDMrCqBtBfBzG?nCrA~EM`@XA~AdFxAdALXC\\oMfHmArF_AtBo@gAeCiCsDsCgDiBeJiA_BBUTy@rNIvR_@bT?lYq@hJFQESuADa@zAqFuB_@DpGdCEnFa@hFqA~FzA~CwBdFkJzMiCpEgAhDe@fDe@|IDnGfAjWbArJmDdCa@l@Cd@|B|KnDjKKtIOpEWhALfA[bCsH|I"
        },
        "max_heartrate": null,
        "max_speed": 10.9,
        "max_watts": 700,
        "moving_time": "1:44:46",
        "name": "Open bruggen-tocht",
        "partner_brand_tag": null,
        "partner_logo_url": null,
        "photo_count": 0,
        "photos": {
         "count": 2,
         "primary": {
          "id": null,
          "source": 1,
          "unique_id": "A4E53E0D-A2FB-4B57-A121-ABB52CB0E67D",
          "urls": {
           "100": "https://dgtzuqphqg23d.cloudfront.net/ZU_qyxBXZzHoNysb6dEKoqaYHCdMDZz2C4-LEz0x7r4-128x96.jpg",
           "600": "https://dgtzuqphqg23d.cloudfront.net/ZU_qyxBXZzHoNysb6dEKoqaYHCdMDZz2C4-LEz0x7r4-768x576.jpg"
          },
          "use_primary_photo": null
         },
         "use_primary_photo": true
        },
        "pr_count": 2,
        "private": false,
        "segment_efforts": [
         {
          "device_watts": true,
          "hidden": false
         },
         {
          "device_watts": true,
          "hidden": false
         },
         {
          "device_watts": true,
          "hidden": false
         },
         {
          "device_watts": true,
          "hidden": false
         },
         {
          "device_watts": true,
          "hidden": false
         },
         {
          "device_watts": true,
          "hidden": false
         },
         {
          "device_watts": true,
          "hidden": false
         },
         {
          "device_watts": true,
          "hidden": false
         },
         {
          "device_watts": true,
          "hidden": true
         },
         {
          "device_watts": true,
          "hidden": false
         },
         {
          "device_watts": true,
          "hidden": true
         },
         {
          "device_watts": true,
          "hidden": true
         },
         {
          "device_watts": true,
          "hidden": false
         },
         {
          "device_watts": true,
          "hidden": false
         },
         {
          "device_watts": true,
          "hidden": false
         },
         {
          "device_watts": true,
          "hidden": true
         },
         {
          "device_watts": true,
          "hidden": false
         },
         {
          "device_watts": true,
          "hidden": true
         },
         {
          "device_watts": true,
          "hidden": true
         },
         {
          "device_watts": true,
          "hidden": false
         },
         {
          "device_watts": true,
          "hidden": false
         },
         {
          "device_watts": true,
          "hidden": true
         },
         {
          "device_watts": true,
          "hidden": false
         },
         {
          "device_watts": true,
          "hidden": false
         },
         {
          "device_watts": true,
          "hidden": false
         },
         {
          "device_watts": true,
          "hidden": false
         },
         {
          "device_watts": true,
          "hidden": false
         },
         {
          "device_watts": true,
          "hidden": true
         },
         {
          "device_watts": true,
          "hidden": true
         },
         {
          "device_watts": true,
          "hidden": true
         },
         {
          "device_watts": true,
          "hidden": false
         },
         {
          "device_watts": true,
          "hidden": false
         },
         {
          "device_watts": true,
          "hidden": true
         },
         {
          "device_watts": true,
          "hidden": true
         },
         {
          "device_watts": true,
          "hidden": true
         },
         {
          "device_watts": true,
          "hidden": false
         },
         {
          "device_watts": true,
          "hidden": false
         },
         {
          "device_watts": true,
          "hidden": true
         },
         {
          "device_watts": true,
          "hidden": true
         },
         {
          "device_watts": true,
          "hidden": true
         },
         {
          "device_watts": true,
          "hidden": false
         },
         {
          "device_watts": true,
          "hidden": false
         },
         {
          "device_watts": true,
          "hidden": true
         },
         {
          "device_watts": true,
          "hidden": false
         },
         {
          "device_watts": true,
          "hidden": false
         },
         {
          "device_watts": true,
          "hidden": true
         },
         {
          "device_watts": true,
          "hidden": false
         },
         {
          "device_watts": true,
          "hidden": true
         },
         {
          "device_watts": true,
          "hidden": true
         },
         {
          "device_watts": true,
          "hidden": true
         },
         {
          "device_watts": true,
          "hidden": false
         },
         {
          "device_watts": true,
          "hidden": false
         },
         {
          "device_watts": true,
          "hidden": true
         },
         {
          "device_watts": true,
          "hidden": true
         },
         {
          "device_watts": true,
          "hidden": true
         },
         {
          "device_watts": true,
          "hidden": true
         },
         {
          "device_watts": true,
          "hidden": false
         },
         {
          "device_watts": true,
          "hidden": true
         },
         {
          "device_watts": true,
          "hidden": false
         },
         {
          "device_watts": true,
          "hidden": false
         },
         {
          "device_watts": true,
          "hidden": false
         },
         {
          "device_watts": true,
          "hidden": false
         },
         {
          "device_watts": true,
          "hidden": false
         },
         {
          "device_watts": true,
          "hidden": true
         },
         {
          "device_watts": true,
          "hidden": false
         },
         {
          "device_watts": true,
          "hidden": true
         },
         {
          "device_watts": true,
          "hidden": false
         },
         {
          "device_watts": true,
          "hidden": false
         },
         {
          "device_watts": true,
          "hidden": false
         },
         {
          "device_watts": true,
          "hidden": false
         },
         {
          "device_watts": true,
          "hidden": false
         },
         {
          "device_watts": true,
          "hidden": false
         },
         {
          "device_watts": true,
          "hidden": false
         },
         {
          "device_watts": true,
          "hidden": true
         },
         {
          "device_watts": true,
          "hidden": true
         },
         {
          "device_watts": true,
          "hidden": false
         },
         {
          "device_watts": true,
          "hidden": true
         },
         {
          "device_watts": true,
          "hidden": true
         },
         {
          "device_watts": true,
          "hidden": true
         },
         {
          "device_watts": true,
          "hidden": false
         },
         {
          "device_watts": true,
          "hidden": false
         },
         {
          "device_watts": true,
          "hidden": false
         }
        ],
        "segment_leaderboard_opt_out": null,
        "splits_metric": [
         {
          "average_heartrate": null,
          "average_speed": 4.84,
          "distance": 1002.9,
          "elapsed_time": "0:03:27",
          "elevation_difference": -0.4,
          "moving_time": "0:03:27",
          "pace_zone": 0,
          "split": 1
         },
         {
          "average_heartrate": null,
          "average_speed": 5.94,
          "distance": 1003.2,
          "elapsed_time": "0:02:49",
          "elevation_difference": -0.6,
          "moving_time": "0:02:49",
          "pace_zone": 0,
          "split": 2
         },
         {
          "average_heartrate": null,
          "average_speed": 7.57,
          "distance": 999.8,
          "elapsed_time": "0:02:12",
          "elevation_difference": -1,
          "moving_time": "0:02:12",
          "pace_zone": 0,
          "split": 3
         },
         {
          "average_heartrate": null,
          "average_speed": 7.84,
          "distance": 1002.9,
          "elapsed_time": "0:02:08",
          "elevation_difference": 0.4,
          "moving_time": "0:02:08",
          "pace_zone": 0,
          "split": 4
         },
         {
          "average_heartrate": null,
          "average_speed": 7.23,
          "distance": 997.8,
          "elapsed_time": "0:02:56",
          "elevation_difference": 2.4,
          "moving_time": "0:02:18",
          "pace_zone": 0,
          "split": 5
         },
         {
          "average_heartrate": null,
          "average_speed": 8.16,
          "distance": 995.7,
          "elapsed_time": "0:02:02",
          "elevation_difference": -1.2,
          "moving_time": "0:02:02",
          "pace_zone": 0,
          "split": 6
         },
         {
          "average_heartrate": null,
          "average_speed": 8.1,
          "distance": 1004.8,
          "elapsed_time": "0:02:04",
          "elevation_difference": 1.8,
          "moving_time": "0:02:04",
          "pace_zone": 0,
          "split": 7
         },
         {
          "average_heartrate": null,
          "average_speed": 8.02,
          "distance": 993.9,
          "elapsed_time": "0:02:04",
          "elevation_difference": -2.4,
          "moving_time": "0:02:04",
          "pace_zone": 0,
          "split": 8
         },
         {
          "average_heartrate": null,
          "average_speed": 7.51,
          "distance": 999,
          "elapsed_time": "0:02:13",
          "elevation_difference": 1,
          "moving_time": "0:02:13",
          "pace_zone": 0,
          "split": 9
         },
         {
          "average_heartrate": null,
          "average_speed": 7.84,
          "distance": 1003.3,
          "elapsed_time": "0:02:08",
          "elevation_difference": 0.2,
          "moving_time": "0:02:08",
          "pace_zone": 0,
          "split": 10
         },
         {
          "average_heartrate": null,
          "average_speed": 8.17,
          "distance": 1004.7,
          "elapsed_time": "0:02:03",
          "elevation_difference": -0.4,
          "moving_time": "0:02:03",
          "pace_zone": 0,
          "split": 11
         },
         {
          "average_heartrate": null,
          "average_speed": 6.87,
          "distance": 995.5,
          "elapsed_time": "0:02:25",
          "elevation_difference": 3.2,
          "moving_time": "0:02:25",
          "pace_zone": 0,
          "split": 12
         },
         {
          "average_heartrate": null,
          "average_speed": 6.56,
          "distance": 997.1,
          "elapsed_time": "0:02:32",
          "elevation_difference": -1.4,
          "moving_time": "0:02:32",
          "pace_zone": 0,
          "split": 13
         },
         {
          "average_heartrate": null,
          "average_speed": 6.98,
          "distance": 1004.8,
          "elapsed_time": "0:02:24",
          "elevation_difference": 0.4,
          "moving_time": "0:02:24",
          "pace_zone": 0,
          "split": 14
         },
         {
          "average_heartrate": null,
          "average_speed": 7.74,
          "distance": 998.1,
          "elapsed_time": "0:02:09",
          "elevation_difference": 0,
          "moving_time": "0:02:09",
          "pace_zone": 0,
          "split": 15
         },
         {
          "average_heartrate": null,
          "average_speed": 7.69,
          "distance": 999.6,
          "elapsed_time": "0:02:10",
          "elevation_difference": -0.6,
          "moving_time": "0:02:10",
          "pace_zone": 0,
          "split": 16
         },
         {
          "average_heartrate": null,
          "average_speed": 7.13,
          "distance": 997.7,
          "elapsed_time": "0:02:20",
          "elevation_difference": 0.6,
          "moving_time": "0:02:20",
          "pace_zone": 0,
          "split": 17
         },
         {
          "average_heartrate": null,
          "average_speed": 7.6,
          "distance": 1003.6,
          "elapsed_time": "0:02:12",
          "elevation_difference": 0.4,
          "moving_time": "0:02:12",
          "pace_zone": 0,
          "split": 18
         },
         {
          "average_heartrate": null,
          "average_speed": 7.18,
          "distance": 998.2,
          "elapsed_time": "0:02:19",
          "elevation_difference": 0,
          "moving_time": "0:02:19",
          "pace_zone": 0,
          "split": 19
         },
         {
          "average_heartrate": null,
          "average_speed": 7.38,
          "distance": 1003.6,
          "elapsed_time": "0:02:16",
          "elevation_difference": 0.4,
          "moving_time": "0:02:16",
          "pace_zone": 0,
          "split": 20
         },
         {
          "average_heartrate": null,
          "average_speed": 6.58,
          "distance": 999.8,
          "elapsed_time": "0:04:50",
          "elevation_difference": 0.4,
          "moving_time": "0:02:32",
          "pace_zone": 0,
          "split": 21
         },
         {
          "average_heartrate": null,
          "average_speed": 8.24,
          "distance": 997.6,
          "elapsed_time": "0:02:01",
          "elevation_difference": 0.2,
          "moving_time": "0:02:01",
          "pace_zone": 0,
          "split": 22
         },
         {
          "average_heartrate": null,
          "average_speed": 8.58,
          "distance": 1004.3,
          "elapsed_time": "0:01:57",
          "elevation_difference": 0,
          "moving_time": "0:01:57",
          "pace_zone": 0,
          "split": 23
         },
         {
          "average_heartrate": null,
          "average_speed": 9.03,
          "distance": 992.9,
          "elapsed_time": "0:01:50",
          "elevation_difference": 0.2,
          "moving_time": "0:01:50",
          "pace_zone": 0,
          "split": 24
         },
         {
          "average_heartrate": null,
          "average_speed": 6.56,
          "distance": 1003.4,
          "elapsed_time": "0:02:33",
          "elevation_difference": -2.8,
          "moving_time": "0:02:33",
          "pace_zone": 0,
          "split": 25
         },
         {
          "average_heartrate": null,
          "average_speed": 5.02,
          "distance": 999.1,
          "elapsed_time": "0:04:29",
          "elevation_difference": 4.2,
          "moving_time": "0:03:19",
          "pace_zone": 0,
          "split": 26
         },
         {
          "average_heartrate": null,
          "average_speed": 9.47,
          "distance": 1004.3,
          "elapsed_time": "0:01:46",
          "elevation_difference": -0.4,
          "moving_time": "0:01:46",
          "pace_zone": 0,
          "split": 27
         },
         {
          "average_heartrate": null,
          "average_speed": 10.28,
          "distance": 997.1,
          "elapsed_time": "0:01:37",
          "elevation_difference": -3.4,
          "moving_time": "0:01:37",
          "pace_zone": 0,
          "split": 28
         },
         {
          "average_heartrate": null,
          "average_speed": 9.91,
          "distance": 1000.6,
          "elapsed_time": "0:01:41",
          "elevation_difference": 4.2,
          "moving_time": "0:01:41",
          "pace_zone": 0,
          "split": 29
         },
         {
          "average_heartrate": null,
          "average_speed": 8.78,
          "distance": 1000.9,
          "elapsed_time": "0:01:54",
          "elevation_difference": -0.6,
          "moving_time": "0:01:54",
          "pace_zone": 0,
          "split": 30
         },
         {
          "average_heartrate": null,
          "average_speed": 7.22,
          "distance": 995.9,
          "elapsed_time": "0:02:18",
          "elevation_difference": -2.6,
          "moving_time": "0:02:18",
          "pace_zone": 0,
          "split": 31
         },
         {
          "average_heartrate": null,
          "average_speed": 8.93,
          "distance": 999.8,
          "elapsed_time": "0:01:52",
          "elevation_difference": 0.2,
          "moving_time": "0:01:52",
          "pace_zone": 0,
          "split": 32
         },
         {
          "average_heartrate": null,
          "average_speed": 8.7,
          "distance": 1001,
          "elapsed_time": "0:01:55",
          "elevation_difference": 3.2,
          "moving_time": "0:01:55",
          "pace_zone": 0,
          "split": 33
         },
         {
          "average_heartrate": null,
          "average_speed": 8.35,
          "distance": 1001.8,
          "elapsed_time": "0:02:00",
          "elevation_difference": -1,
          "moving_time": "0:02:00",
          "pace_zone": 0,
          "split": 34
         },
         {
          "average_heartrate": null,
          "average_speed": 9.1,
          "distance": 1000.7,
          "elapsed_time": "0:01:50",
          "elevation_difference": 0.2,
          "moving_time": "0:01:50",
          "pace_zone": 0,
          "split": 35
         },
         {
          "average_heartrate": null,
          "average_speed": 9.24,
          "distance": 998.4,
          "elapsed_time": "0:01:48",
          "elevation_difference": 0.8,
          "moving_time": "0:01:48",
          "pace_zone": 0,
          "split": 36
         },
         {
          "average_heartrate": null,
          "average_speed": 8.93,
          "distance": 1000,
          "elapsed_time": "0:01:52",
          "elevation_difference": 1,
          "moving_time": "0:01:52",
          "pace_zone": 0,
          "split": 37
         },
         {
          "average_heartrate": null,
          "average_speed": 8.74,
          "distance": 996.6,
          "elapsed_time": "0:01:54",
          "elevation_difference": -1.6,
          "moving_time": "0:01:54",
          "pace_zone": 0,
          "split": 38
         },
         {
          "average_heartrate": null,
          "average_speed": 9.65,
          "distance": 1003.9,
          "elapsed_time": "0:01:44",
          "elevation_difference": 0,
          "moving_time": "0:01:44",
          "pace_zone": 0,
          "split": 39
         },
         {
          "average_heartrate": null,
          "average_speed": 8.64,
          "distance": 1002.5,
          "elapsed_time": "0:01:56",
          "elevation_difference": 2.4,
          "moving_time": "0:01:56",
          "pace_zone": 0,
          "split": 40
         },
         {
          "average_heartrate": null,
          "average_speed": 6.99,
          "distance": 999,
          "elapsed_time": "0:02:23",
          "elevation_difference": 0.4,
          "moving_time": "0:02:23",
          "pace_zone": 0,
          "split": 41
         },
         {
          "average_heartrate": null,
          "average_speed": 6.2,
          "distance": 997.9,
          "elapsed_time": "0:02:41",
          "elevation_difference": -0.2,
          "moving_time": "0:02:41",
          "pace_zone": 0,
          "split": 42
         },
         {
          "average_heartrate": null,
          "average_speed": 6.06,
          "distance": 1000,
          "elapsed_time": "0:08:07",
          "elevation_difference": 1,
          "moving_time": "0:02:45",
          "pace_zone": 0,
          "split": 43
         },
         {
          "average_heartrate": null,
          "average_speed": 5.87,
          "distance": 997.8,
          "elapsed_time": "0:03:06",
          "elevation_difference": 0.6,
          "moving_time": "0:02:50",
          "pace_zone": 0,
          "split": 44
         },
         {
          "average_heartrate": null,
          "average_speed": 5.43,
          "distance": 1004.1,
          "elapsed_time": "0:03:05",
          "elevation_difference": 2,
          "moving_time": "0:03:05",
          "pace_zone": 0,
          "split": 45
         },
         {
          "average_heartrate": null,
          "average_speed": 7.18,
          "distance": 997.4,
          "elapsed_time": "0:02:19",
          "elevation_difference": -0.6,
          "moving_time": "0:02:19",
          "pace_zone": 0,
          "split": 46
         },
         {
          "average_heartrate": null,
          "average_speed": 6.62,
          "distance": 854.6,
          "elapsed_time": "0:02:09",
          "elevation_difference": -1.8,
          "moving_time": "0:02:09",
          "pace_zone": 0,
          "split": 47
         }
        ],
        "splits_standard": [
         {
          "average_heartrate": null,
          "average_speed": 5.08,
          "distance": 1611.4,
          "elapsed_time": "0:05:17",
          "elevation_difference": -1.6,
          "moving_time": "0:05:17",
          "pace_zone": 0,
          "split": 1
         },
         {
          "average_heartrate": null,
          "average_speed": 7.3,
          "distance": 1613,
          "elapsed_time": "0:03:41",
          "elevation_difference": -0.6,
          "moving_time": "0:03:41",
          "pace_zone": 0,
          "split": 2
         },
         {
          "average_heartrate": null,
          "average_speed": 7.76,
          "distance": 1606.1,
          "elapsed_time": "0:04:05",
          "elevation_difference": 2,
          "moving_time": "0:03:27",
          "pace_zone": 0,
          "split": 3
         },
         {
          "average_heartrate": null,
          "average_speed": 7.99,
          "distance": 1613.3,
          "elapsed_time": "0:03:22",
          "elevation_difference": -0.2,
          "moving_time": "0:03:22",
          "pace_zone": 0,
          "split": 4
         },
         {
          "average_heartrate": null,
          "average_speed": 7.9,
          "distance": 1604.2,
          "elapsed_time": "0:03:23",
          "elevation_difference": 0,
          "moving_time": "0:03:23",
          "pace_zone": 0,
          "split": 5
         },
         {
          "average_heartrate": null,
          "average_speed": 7.65,
          "distance": 1613.2,
          "elapsed_time": "0:03:31",
          "elevation_difference": 0,
          "moving_time": "0:03:31",
          "pace_zone": 0,
          "split": 6
         },
         {
          "average_heartrate": null,
          "average_speed": 8.02,
          "distance": 1612.2,
          "elapsed_time": "0:03:21",
          "elevation_difference": 5.4,
          "moving_time": "0:03:21",
          "pace_zone": 0,
          "split": 7
         },
         {
          "average_heartrate": null,
          "average_speed": 6.5,
          "distance": 1605.5,
          "elapsed_time": "0:04:07",
          "elevation_difference": -3.2,
          "moving_time": "0:04:07",
          "pace_zone": 0,
          "split": 8
         },
         {
          "average_heartrate": null,
          "average_speed": 7.25,
          "distance": 1608.8,
          "elapsed_time": "0:03:42",
          "elevation_difference": -1.4,
          "moving_time": "0:03:42",
          "pace_zone": 0,
          "split": 9
         },
         {
          "average_heartrate": null,
          "average_speed": 7.63,
          "distance": 1610.6,
          "elapsed_time": "0:03:31",
          "elevation_difference": 0.6,
          "moving_time": "0:03:31",
          "pace_zone": 0,
          "split": 10
         },
         {
          "average_heartrate": null,
          "average_speed": 7.35,
          "distance": 1610.7,
          "elapsed_time": "0:03:39",
          "elevation_difference": 1.4,
          "moving_time": "0:03:39",
          "pace_zone": 0,
          "split": 11
         },
         {
          "average_heartrate": null,
          "average_speed": 7.28,
          "distance": 1609.9,
          "elapsed_time": "0:03:41",
          "elevation_difference": 0.6,
          "moving_time": "0:03:41",
          "pace_zone": 0,
          "split": 12
         },
         {
          "average_heartrate": null,
          "average_speed": 6.84,
          "distance": 1607.1,
          "elapsed_time": "0:06:13",
          "elevation_difference": 0.6,
          "moving_time": "0:03:55",
          "pace_zone": 0,
          "split": 13
         },
         {
          "average_heartrate": null,
          "average_speed": 8.27,
          "distance": 1613.4,
          "elapsed_time": "0:03:15",
          "elevation_difference": 0.8,
          "moving_time": "0:03:15",
          "pace_zone": 0,
          "split": 14
         },
         {
          "average_heartrate": null,
          "average_speed": 8.98,
          "distance": 1607.7,
          "elapsed_time": "0:02:59",
          "elevation_difference": -1,
          "moving_time": "0:02:59",
          "pace_zone": 0,
          "split": 15
         },
         {
          "average_heartrate": null,
          "average_speed": 5.33,
          "distance": 1603,
          "elapsed_time": "0:06:11",
          "elevation_difference": 1,
          "moving_time": "0:05:01",
          "pace_zone": 0,
          "split": 16
         },
         {
          "average_heartrate": null,
          "average_speed": 9.16,
          "distance": 1612.9,
          "elapsed_time": "0:02:56",
          "elevation_difference": 0.4,
          "moving_time": "0:02:56",
          "pace_zone": 0,
          "split": 17
         },
         {
          "average_heartrate": null,
          "average_speed": 10.18,
          "distance": 1608.4,
          "elapsed_time": "0:02:38",
          "elevation_difference": -1.6,
          "moving_time": "0:02:38",
          "pace_zone": 0,
          "split": 18
         },
         {
          "average_heartrate": null,
          "average_speed": 7.64,
          "distance": 1611.4,
          "elapsed_time": "0:03:31",
          "elevation_difference": 4.2,
          "moving_time": "0:03:31",
          "pace_zone": 0,
          "split": 19
         },
         {
          "average_heartrate": null,
          "average_speed": 8.93,
          "distance": 1608,
          "elapsed_time": "0:03:00",
          "elevation_difference": -5.8,
          "moving_time": "0:03:00",
          "pace_zone": 0,
          "split": 20
         },
         {
          "average_heartrate": null,
          "average_speed": 8.42,
          "distance": 1609,
          "elapsed_time": "0:03:11",
          "elevation_difference": 3.2,
          "moving_time": "0:03:11",
          "pace_zone": 0,
          "split": 21
         },
         {
          "average_heartrate": null,
          "average_speed": 9.14,
          "distance": 1609.3,
          "elapsed_time": "0:02:56",
          "elevation_difference": 1,
          "moving_time": "0:02:56",
          "pace_zone": 0,
          "split": 22
         },
         {
          "average_heartrate": null,
          "average_speed": 8.99,
          "distance": 1608.6,
          "elapsed_time": "0:02:59",
          "elevation_difference": 0.8,
          "moving_time": "0:02:59",
          "pace_zone": 0,
          "split": 23
         },
         {
          "average_heartrate": null,
          "average_speed": 9.1,
          "distance": 1610.5,
          "elapsed_time": "0:02:57",
          "elevation_difference": -1.4,
          "moving_time": "0:02:57",
          "pace_zone": 0,
          "split": 24
         },
         {
          "average_heartrate": null,
          "average_speed": 8.65,
          "distance": 1609.4,
          "elapsed_time": "0:03:06",
          "elevation_difference": 2,
          "moving_time": "0:03:06",
          "pace_zone": 0,
          "split": 25
         },
         {
          "average_heartrate": null,
          "average_speed": 6.39,
          "distance": 1609.5,
          "elapsed_time": "0:04:12",
          "elevation_difference": 0.8,
          "moving_time": "0:04:12",
          "pace_zone": 0,
          "split": 26
         },
         {
          "average_heartrate": null,
          "average_speed": 6.51,
          "distance": 1607.4,
          "elapsed_time": "0:09:29",
          "elevation_difference": 2,
          "moving_time": "0:04:07",
          "pace_zone": 0,
          "split": 27
         },
         {
          "average_heartrate": null,
          "average_speed": 5.35,
          "distance": 1610.9,
          "elapsed_time": "0:05:17",
          "elevation_difference": 0.8,
          "moving_time": "0:05:01",
          "pace_zone": 0,
          "split": 28
         },
         {
          "average_heartrate": null,
          "average_speed": 7.04,
          "distance": 1611.2,
          "elapsed_time": "0:03:49",
          "elevation_difference": -2.2,
          "moving_time": "0:03:49",
          "pace_zone": 0,
          "split": 29
         },
         {
          "average_heartrate": null,
          "average_speed": 5.84,
          "distance": 181,
          "elapsed_time": "0:00:31",
          "elevation_difference": 0.2,
          "moving_time": "0:00:31",
          "pace_zone": 0,
          "split": 30
         }
        ],
        "start_date": "2019-07-26T07:08:14+00:00",
        "start_date_local": "2019-07-26T09:08:14",
        "start_latitude": 52.16,
        "start_latlng": "52.16,4.47",
        "start_longitude": 4.47,
        "suffer_score": null,
        "timezone": "Europe/Amsterdam",
        "total_elevation_gain": 76,
        "total_photo_count": 2,
        "trainer": false,
        "type": "Ride",
        "upload_id": "2721139377",
        "utc_offset": 7200,
        "weighted_average_watts": 203,
        "workout_type": "10"
       },
       "encoder": "json",
       "name": "activity_detail",
       "version": 1
      }
     },
     "metadata": {
      "scrapbook": {
       "data": true,
       "display": false,
       "name": "activity_detail"
      }
     },
     "output_type": "display_data"
    }
   ],
   "source": [
    "client = Client(access_token)\n",
    "\n",
    "# Retrieve Strava athlete\n",
    "athlete_response = client.get_athlete()\n",
    "athlete = athlete_response.to_dict()\n",
    "sb.glue('athlete', athlete)\n",
    "\n",
    "# Retrieve Strava activity details\n",
    "activity_detail_response = client.get_activity(activity_id)\n",
    "activity_detail = activity_detail_response.to_dict()\n",
    "sb.glue('activity_detail', activity_detail)\n",
    "\n",
    "# Retrieve Strava activity streams\n",
    "STRAVA_STREAM_TYPES = [\n",
    "    'time', 'latlng', 'distance', 'altitude', 'velocity_smooth', 'heartrate',\n",
    "    'cadence', 'watts', 'temp', 'moving', 'grade_smooth'\n",
    "]\n",
    "activity_streams_response = client.get_activity_streams(\n",
    "    activity_id=activity_id,\n",
    "    types=STRAVA_STREAM_TYPES,\n",
    "    series_type='time')\n",
    "activity_streams = {key: val.data for key, val in activity_streams_response.items()}"
   ]
  },
  {
   "cell_type": "code",
   "execution_count": null,
   "metadata": {
    "scrolled": true
   },
   "outputs": [],
   "source": [
    "print(f'athlete firstname: {athlete[\"firstname\"]}')\n",
    "print(f'activity_detail: {activity_detail[\"external_id\"]}')\n",
    "print(f'activity_streams: {activity_streams.keys()}')"
   ]
  }
 ],
 "metadata": {
  "celltoolbar": "Tags",
  "kernelspec": {
   "display_name": "Python 3",
   "language": "python",
   "name": "python3"
  },
  "language_info": {
   "codemirror_mode": {
    "name": "ipython",
    "version": 3
   },
   "file_extension": ".py",
   "mimetype": "text/x-python",
   "name": "python",
   "nbconvert_exporter": "python",
   "pygments_lexer": "ipython3",
   "version": "3.7.4"
  }
 },
 "nbformat": 4,
 "nbformat_minor": 2
}
